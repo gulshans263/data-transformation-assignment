{
 "cells": [
  {
   "cell_type": "code",
   "id": "initial_id",
   "metadata": {
    "collapsed": true,
    "ExecuteTime": {
     "end_time": "2025-06-24T19:49:27.278928Z",
     "start_time": "2025-06-24T19:49:27.090158Z"
    }
   },
   "source": [
    "import numpy as np\n",
    "import pandas as pd\n"
   ],
   "outputs": [],
   "execution_count": 1
  },
  {
   "metadata": {
    "ExecuteTime": {
     "end_time": "2025-06-24T19:50:35.319099Z",
     "start_time": "2025-06-24T19:50:35.312631Z"
    }
   },
   "cell_type": "code",
   "source": "df = pd.read_csv(\"/Users/gulshansingh/Downloads/ Python.csv\")",
   "id": "c0b87fcd434e7779",
   "outputs": [],
   "execution_count": 5
  },
  {
   "metadata": {
    "ExecuteTime": {
     "end_time": "2025-06-24T19:54:16.737373Z",
     "start_time": "2025-06-24T19:54:16.728951Z"
    }
   },
   "cell_type": "code",
   "source": [
    "# Function to clean each row\n",
    "def clean_row(row):\n",
    "    # Clean and convert order_id\n",
    "    try:\n",
    "        row['order_id'] = int(str(row['order_id']).replace('\"', '').strip())\n",
    "    except:\n",
    "        row['order_id'] = 0\n",
    "\n",
    "    # Clean and convert product_id\n",
    "    try:\n",
    "        row['product_id'] = int(str(row['product_id']).replace('\"', '').strip())\n",
    "    except:\n",
    "        row['product_id'] = 0\n",
    "\n",
    "    # Clean and convert quantity\n",
    "    try:\n",
    "        qty = str(row['quantity']).replace('\"', '').strip()\n",
    "        row['quantity'] = int(qty) if qty != '' and int(qty) >= 0 else 0\n",
    "    except:\n",
    "        row['quantity'] = 0\n",
    "\n",
    "    # Clean and convert price_per_unit\n",
    "    try:\n",
    "        row['price_per_unit'] = float(str(row['price_per_unit']).replace('\"', '').strip())\n",
    "    except:\n",
    "        row['price_per_unit'] = 0.0\n",
    "\n",
    "    # Standardize order_date\n",
    "    try:\n",
    "        row['order_date'] = pd.to_datetime(str(row['order_date']).replace('\"', '').strip(), errors='coerce')\n",
    "    except:\n",
    "        row['order_date'] = pd.NaT\n",
    "\n",
    "    return row\n"
   ],
   "id": "e215fd39e2dccc76",
   "outputs": [],
   "execution_count": 7
  },
  {
   "metadata": {
    "ExecuteTime": {
     "end_time": "2025-06-24T19:54:35.913308Z",
     "start_time": "2025-06-24T19:54:35.902085Z"
    }
   },
   "cell_type": "code",
   "source": [
    "df_cleaned = df.apply(clean_row, axis=1)\n",
    "\n",
    "# Display cleaned DataFrame\n",
    "df_cleaned\n"
   ],
   "id": "907ca336bec1bbdb",
   "outputs": [
    {
     "data": {
      "text/plain": [
       "   order_id  product_id  quantity  price_per_unit order_date\n",
       "0         1         101         2           20.00 2025-06-01\n",
       "1         2         102         0           15.50 2025-06-01\n",
       "2         3         103         1           35.00 2025-06-01\n",
       "3         4         104         3           20.00 2025-06-02\n",
       "4         5         105         0           99.00 2025-06-03\n",
       "5         6         106         2           25.99 2025-06-03"
      ],
      "text/html": [
       "<div>\n",
       "<style scoped>\n",
       "    .dataframe tbody tr th:only-of-type {\n",
       "        vertical-align: middle;\n",
       "    }\n",
       "\n",
       "    .dataframe tbody tr th {\n",
       "        vertical-align: top;\n",
       "    }\n",
       "\n",
       "    .dataframe thead th {\n",
       "        text-align: right;\n",
       "    }\n",
       "</style>\n",
       "<table border=\"1\" class=\"dataframe\">\n",
       "  <thead>\n",
       "    <tr style=\"text-align: right;\">\n",
       "      <th></th>\n",
       "      <th>order_id</th>\n",
       "      <th>product_id</th>\n",
       "      <th>quantity</th>\n",
       "      <th>price_per_unit</th>\n",
       "      <th>order_date</th>\n",
       "    </tr>\n",
       "  </thead>\n",
       "  <tbody>\n",
       "    <tr>\n",
       "      <th>0</th>\n",
       "      <td>1</td>\n",
       "      <td>101</td>\n",
       "      <td>2</td>\n",
       "      <td>20.00</td>\n",
       "      <td>2025-06-01</td>\n",
       "    </tr>\n",
       "    <tr>\n",
       "      <th>1</th>\n",
       "      <td>2</td>\n",
       "      <td>102</td>\n",
       "      <td>0</td>\n",
       "      <td>15.50</td>\n",
       "      <td>2025-06-01</td>\n",
       "    </tr>\n",
       "    <tr>\n",
       "      <th>2</th>\n",
       "      <td>3</td>\n",
       "      <td>103</td>\n",
       "      <td>1</td>\n",
       "      <td>35.00</td>\n",
       "      <td>2025-06-01</td>\n",
       "    </tr>\n",
       "    <tr>\n",
       "      <th>3</th>\n",
       "      <td>4</td>\n",
       "      <td>104</td>\n",
       "      <td>3</td>\n",
       "      <td>20.00</td>\n",
       "      <td>2025-06-02</td>\n",
       "    </tr>\n",
       "    <tr>\n",
       "      <th>4</th>\n",
       "      <td>5</td>\n",
       "      <td>105</td>\n",
       "      <td>0</td>\n",
       "      <td>99.00</td>\n",
       "      <td>2025-06-03</td>\n",
       "    </tr>\n",
       "    <tr>\n",
       "      <th>5</th>\n",
       "      <td>6</td>\n",
       "      <td>106</td>\n",
       "      <td>2</td>\n",
       "      <td>25.99</td>\n",
       "      <td>2025-06-03</td>\n",
       "    </tr>\n",
       "  </tbody>\n",
       "</table>\n",
       "</div>"
      ]
     },
     "execution_count": 9,
     "metadata": {},
     "output_type": "execute_result"
    }
   ],
   "execution_count": 9
  },
  {
   "metadata": {
    "ExecuteTime": {
     "end_time": "2025-06-24T19:56:18.881451Z",
     "start_time": "2025-06-24T19:56:18.878769Z"
    }
   },
   "cell_type": "code",
   "source": [
    "def calculate_total_price(row):\n",
    "    return row['quantity'] * row['price_per_unit']\n"
   ],
   "id": "ae1aaefed8004da6",
   "outputs": [],
   "execution_count": 10
  },
  {
   "metadata": {
    "ExecuteTime": {
     "end_time": "2025-06-24T19:56:30.491521Z",
     "start_time": "2025-06-24T19:56:30.485613Z"
    }
   },
   "cell_type": "code",
   "source": [
    "df_cleaned['total_price'] = df_cleaned.apply(calculate_total_price, axis=1)\n",
    "\n",
    "# Display final cleaned DataFrame\n",
    "df_cleaned\n"
   ],
   "id": "4a38bc7cc6f95739",
   "outputs": [
    {
     "data": {
      "text/plain": [
       "   order_id  product_id  quantity  price_per_unit order_date  total_price\n",
       "0         1         101         2           20.00 2025-06-01        40.00\n",
       "1         2         102         0           15.50 2025-06-01         0.00\n",
       "2         3         103         1           35.00 2025-06-01        35.00\n",
       "3         4         104         3           20.00 2025-06-02        60.00\n",
       "4         5         105         0           99.00 2025-06-03         0.00\n",
       "5         6         106         2           25.99 2025-06-03        51.98"
      ],
      "text/html": [
       "<div>\n",
       "<style scoped>\n",
       "    .dataframe tbody tr th:only-of-type {\n",
       "        vertical-align: middle;\n",
       "    }\n",
       "\n",
       "    .dataframe tbody tr th {\n",
       "        vertical-align: top;\n",
       "    }\n",
       "\n",
       "    .dataframe thead th {\n",
       "        text-align: right;\n",
       "    }\n",
       "</style>\n",
       "<table border=\"1\" class=\"dataframe\">\n",
       "  <thead>\n",
       "    <tr style=\"text-align: right;\">\n",
       "      <th></th>\n",
       "      <th>order_id</th>\n",
       "      <th>product_id</th>\n",
       "      <th>quantity</th>\n",
       "      <th>price_per_unit</th>\n",
       "      <th>order_date</th>\n",
       "      <th>total_price</th>\n",
       "    </tr>\n",
       "  </thead>\n",
       "  <tbody>\n",
       "    <tr>\n",
       "      <th>0</th>\n",
       "      <td>1</td>\n",
       "      <td>101</td>\n",
       "      <td>2</td>\n",
       "      <td>20.00</td>\n",
       "      <td>2025-06-01</td>\n",
       "      <td>40.00</td>\n",
       "    </tr>\n",
       "    <tr>\n",
       "      <th>1</th>\n",
       "      <td>2</td>\n",
       "      <td>102</td>\n",
       "      <td>0</td>\n",
       "      <td>15.50</td>\n",
       "      <td>2025-06-01</td>\n",
       "      <td>0.00</td>\n",
       "    </tr>\n",
       "    <tr>\n",
       "      <th>2</th>\n",
       "      <td>3</td>\n",
       "      <td>103</td>\n",
       "      <td>1</td>\n",
       "      <td>35.00</td>\n",
       "      <td>2025-06-01</td>\n",
       "      <td>35.00</td>\n",
       "    </tr>\n",
       "    <tr>\n",
       "      <th>3</th>\n",
       "      <td>4</td>\n",
       "      <td>104</td>\n",
       "      <td>3</td>\n",
       "      <td>20.00</td>\n",
       "      <td>2025-06-02</td>\n",
       "      <td>60.00</td>\n",
       "    </tr>\n",
       "    <tr>\n",
       "      <th>4</th>\n",
       "      <td>5</td>\n",
       "      <td>105</td>\n",
       "      <td>0</td>\n",
       "      <td>99.00</td>\n",
       "      <td>2025-06-03</td>\n",
       "      <td>0.00</td>\n",
       "    </tr>\n",
       "    <tr>\n",
       "      <th>5</th>\n",
       "      <td>6</td>\n",
       "      <td>106</td>\n",
       "      <td>2</td>\n",
       "      <td>25.99</td>\n",
       "      <td>2025-06-03</td>\n",
       "      <td>51.98</td>\n",
       "    </tr>\n",
       "  </tbody>\n",
       "</table>\n",
       "</div>"
      ]
     },
     "execution_count": 11,
     "metadata": {},
     "output_type": "execute_result"
    }
   ],
   "execution_count": 11
  },
  {
   "metadata": {
    "ExecuteTime": {
     "end_time": "2025-06-24T19:57:18.399674Z",
     "start_time": "2025-06-24T19:57:18.393277Z"
    }
   },
   "cell_type": "code",
   "source": [
    "df_cleaned.to_csv('cleaned_sales.csv', index=False)\n",
    "print(\"✅ Cleaned data saved to 'cleaned_sales.csv'\")\n"
   ],
   "id": "510e00fe7091c66b",
   "outputs": [
    {
     "name": "stdout",
     "output_type": "stream",
     "text": [
      "✅ Cleaned data saved to 'cleaned_sales.csv'\n"
     ]
    }
   ],
   "execution_count": 12
  },
  {
   "metadata": {},
   "cell_type": "code",
   "outputs": [],
   "execution_count": null,
   "source": "",
   "id": "9a9ed53e433a18ef"
  }
 ],
 "metadata": {
  "kernelspec": {
   "display_name": "Python 3",
   "language": "python",
   "name": "python3"
  },
  "language_info": {
   "codemirror_mode": {
    "name": "ipython",
    "version": 2
   },
   "file_extension": ".py",
   "mimetype": "text/x-python",
   "name": "python",
   "nbconvert_exporter": "python",
   "pygments_lexer": "ipython2",
   "version": "2.7.6"
  }
 },
 "nbformat": 4,
 "nbformat_minor": 5
}
