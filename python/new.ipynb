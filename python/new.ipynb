{
 "cells": [
  {
   "cell_type": "code",
   "id": "68316cc4cabd3d94",
   "metadata": {
    "ExecuteTime": {
     "end_time": "2025-06-24T19:31:05.660633Z",
     "start_time": "2025-06-24T19:31:05.656078Z"
    }
   },
   "source": [
    "import pandas as pd\n",
    "import sqlite3"
   ],
   "outputs": [],
   "execution_count": 9
  },
  {
   "cell_type": "code",
   "id": "5c11572dd4a877c5",
   "metadata": {
    "ExecuteTime": {
     "end_time": "2025-06-24T19:33:48.405391Z",
     "start_time": "2025-06-24T19:33:48.398468Z"
    }
   },
   "source": [
    "df_old = pd.read_csv(\"/Users/gulshansingh/Downloads/old_table.csv\")\n",
    "df_new = pd.read_csv(\"/Users/gulshansingh/Downloads/new_table.csv\")\n"
   ],
   "outputs": [],
   "execution_count": 11
  },
  {
   "cell_type": "code",
   "id": "ebaa546aaaf787d1",
   "metadata": {
    "ExecuteTime": {
     "end_time": "2025-06-24T19:37:19.388369Z",
     "start_time": "2025-06-24T19:37:19.380505Z"
    }
   },
   "source": [
    "conn = sqlite3.connect(\":memory:\")\n",
    "df_old.to_sql(\"old_table\", conn, index=False, if_exists=\"replace\")\n",
    "df_new.to_sql(\"new_table\", conn, index=False, if_exists=\"replace\")\n"
   ],
   "outputs": [
    {
     "data": {
      "text/plain": [
       "6"
      ]
     },
     "execution_count": 14,
     "metadata": {},
     "output_type": "execute_result"
    }
   ],
   "execution_count": 14
  },
  {
   "cell_type": "code",
   "id": "96f60efe89d6eca5",
   "metadata": {
    "ExecuteTime": {
     "end_time": "2025-06-24T19:37:21.518029Z",
     "start_time": "2025-06-24T19:37:21.512410Z"
    }
   },
   "source": [
    "added_rows = pd.read_sql(\"\"\"\n",
    "SELECT *, 'ADDED' as change_type\n",
    "FROM new_table\n",
    "EXCEPT\n",
    "SELECT *, 'ADDED' as change_type\n",
    "FROM old_table\n",
    "\"\"\", conn)"
   ],
   "outputs": [],
   "execution_count": 15
  },
  {
   "cell_type": "code",
   "id": "bde1041885a4ffd",
   "metadata": {
    "ExecuteTime": {
     "end_time": "2025-06-24T19:37:23.607079Z",
     "start_time": "2025-06-24T19:37:23.602160Z"
    }
   },
   "source": [
    "removed_rows = pd.read_sql(\"\"\"\n",
    "SELECT *, 'REMOVED' as change_type\n",
    "FROM old_table\n",
    "EXCEPT\n",
    "SELECT *, 'REMOVED' as change_type\n",
    "FROM new_table\n",
    "\"\"\", conn)"
   ],
   "outputs": [],
   "execution_count": 16
  },
  {
   "cell_type": "code",
   "id": "c45152c8365578bd",
   "metadata": {
    "ExecuteTime": {
     "end_time": "2025-06-24T19:37:25.568618Z",
     "start_time": "2025-06-24T19:37:25.556073Z"
    }
   },
   "source": [
    "# Combine added and removed rows\n",
    "full_changes = pd.concat([removed_rows, added_rows], ignore_index=True)\n",
    "full_changes.columns = [col.strip().lower() for col in full_changes.columns]\n",
    "\n",
    "# Reorder columns\n",
    "ordered_columns = ['product_id', 'name', 'category', 'price', 'stock', 'change_type']\n",
    "full_changes = full_changes[ordered_columns]\n",
    "\n",
    "# Show final result\n",
    "print(\"🔄 Final Full Row Changes (ADDED / REMOVED):\")\n",
    "display(full_changes)\n"
   ],
   "outputs": [
    {
     "name": "stdout",
     "output_type": "stream",
     "text": [
      "🔄 Final Full Row Changes (ADDED / REMOVED):\n"
     ]
    },
    {
     "data": {
      "text/plain": [
       "   product_id                name     category  price  stock change_type\n",
       "0         101      Wireless Mouse  Electronics  25.99    120     REMOVED\n",
       "1         102        Water Bottle      Kitchen  10.50    200     REMOVED\n",
       "2         103   Bluetooth Speaker  Electronics  49.99     75     REMOVED\n",
       "3         105           Desk Lamp    Furniture  35.00     90     REMOVED\n",
       "4         106            Notebook   Stationary   2.99    300     REMOVED\n",
       "5         101      Wireless Mouse  Electronics  23.99    120       ADDED\n",
       "6         102        Water Bottle      Kitchen  10.50    180       ADDED\n",
       "7         103  Bluetooth Speaker   Electronics  49.99     75       ADDED\n",
       "8         105           Desk Lamp    Furniture  37.00     90       ADDED\n",
       "9         107        Smart Watch     Wearables  99.00     50       ADDED"
      ],
      "text/html": [
       "<div>\n",
       "<style scoped>\n",
       "    .dataframe tbody tr th:only-of-type {\n",
       "        vertical-align: middle;\n",
       "    }\n",
       "\n",
       "    .dataframe tbody tr th {\n",
       "        vertical-align: top;\n",
       "    }\n",
       "\n",
       "    .dataframe thead th {\n",
       "        text-align: right;\n",
       "    }\n",
       "</style>\n",
       "<table border=\"1\" class=\"dataframe\">\n",
       "  <thead>\n",
       "    <tr style=\"text-align: right;\">\n",
       "      <th></th>\n",
       "      <th>product_id</th>\n",
       "      <th>name</th>\n",
       "      <th>category</th>\n",
       "      <th>price</th>\n",
       "      <th>stock</th>\n",
       "      <th>change_type</th>\n",
       "    </tr>\n",
       "  </thead>\n",
       "  <tbody>\n",
       "    <tr>\n",
       "      <th>0</th>\n",
       "      <td>101</td>\n",
       "      <td>Wireless Mouse</td>\n",
       "      <td>Electronics</td>\n",
       "      <td>25.99</td>\n",
       "      <td>120</td>\n",
       "      <td>REMOVED</td>\n",
       "    </tr>\n",
       "    <tr>\n",
       "      <th>1</th>\n",
       "      <td>102</td>\n",
       "      <td>Water Bottle</td>\n",
       "      <td>Kitchen</td>\n",
       "      <td>10.50</td>\n",
       "      <td>200</td>\n",
       "      <td>REMOVED</td>\n",
       "    </tr>\n",
       "    <tr>\n",
       "      <th>2</th>\n",
       "      <td>103</td>\n",
       "      <td>Bluetooth Speaker</td>\n",
       "      <td>Electronics</td>\n",
       "      <td>49.99</td>\n",
       "      <td>75</td>\n",
       "      <td>REMOVED</td>\n",
       "    </tr>\n",
       "    <tr>\n",
       "      <th>3</th>\n",
       "      <td>105</td>\n",
       "      <td>Desk Lamp</td>\n",
       "      <td>Furniture</td>\n",
       "      <td>35.00</td>\n",
       "      <td>90</td>\n",
       "      <td>REMOVED</td>\n",
       "    </tr>\n",
       "    <tr>\n",
       "      <th>4</th>\n",
       "      <td>106</td>\n",
       "      <td>Notebook</td>\n",
       "      <td>Stationary</td>\n",
       "      <td>2.99</td>\n",
       "      <td>300</td>\n",
       "      <td>REMOVED</td>\n",
       "    </tr>\n",
       "    <tr>\n",
       "      <th>5</th>\n",
       "      <td>101</td>\n",
       "      <td>Wireless Mouse</td>\n",
       "      <td>Electronics</td>\n",
       "      <td>23.99</td>\n",
       "      <td>120</td>\n",
       "      <td>ADDED</td>\n",
       "    </tr>\n",
       "    <tr>\n",
       "      <th>6</th>\n",
       "      <td>102</td>\n",
       "      <td>Water Bottle</td>\n",
       "      <td>Kitchen</td>\n",
       "      <td>10.50</td>\n",
       "      <td>180</td>\n",
       "      <td>ADDED</td>\n",
       "    </tr>\n",
       "    <tr>\n",
       "      <th>7</th>\n",
       "      <td>103</td>\n",
       "      <td>Bluetooth Speaker</td>\n",
       "      <td>Electronics</td>\n",
       "      <td>49.99</td>\n",
       "      <td>75</td>\n",
       "      <td>ADDED</td>\n",
       "    </tr>\n",
       "    <tr>\n",
       "      <th>8</th>\n",
       "      <td>105</td>\n",
       "      <td>Desk Lamp</td>\n",
       "      <td>Furniture</td>\n",
       "      <td>37.00</td>\n",
       "      <td>90</td>\n",
       "      <td>ADDED</td>\n",
       "    </tr>\n",
       "    <tr>\n",
       "      <th>9</th>\n",
       "      <td>107</td>\n",
       "      <td>Smart Watch</td>\n",
       "      <td>Wearables</td>\n",
       "      <td>99.00</td>\n",
       "      <td>50</td>\n",
       "      <td>ADDED</td>\n",
       "    </tr>\n",
       "  </tbody>\n",
       "</table>\n",
       "</div>"
      ]
     },
     "metadata": {},
     "output_type": "display_data"
    }
   ],
   "execution_count": 17
  },
  {
   "cell_type": "code",
   "id": "6e3d745ee754fd46",
   "metadata": {
    "ExecuteTime": {
     "end_time": "2025-06-24T19:37:28.306835Z",
     "start_time": "2025-06-24T19:37:28.298783Z"
    }
   },
   "source": [
    "# Save results to CSV file\n",
    "full_changes.to_csv(\"product_full_row_changes.csv\", index=False)\n"
   ],
   "outputs": [],
   "execution_count": 18
  },
  {
   "cell_type": "code",
   "id": "1d3b1d1e92f24686",
   "metadata": {
    "ExecuteTime": {
     "end_time": "2025-06-24T19:37:32.550773Z",
     "start_time": "2025-06-24T19:37:32.546685Z"
    }
   },
   "source": [
    "conn.close()"
   ],
   "outputs": [],
   "execution_count": 19
  },
  {
   "cell_type": "code",
   "id": "35d8b30a92af284d",
   "metadata": {
    "ExecuteTime": {
     "end_time": "2025-06-24T19:37:35.131540Z",
     "start_time": "2025-06-24T19:37:35.124061Z"
    }
   },
   "source": [
    "full_changes"
   ],
   "outputs": [
    {
     "data": {
      "text/plain": [
       "   product_id                name     category  price  stock change_type\n",
       "0         101      Wireless Mouse  Electronics  25.99    120     REMOVED\n",
       "1         102        Water Bottle      Kitchen  10.50    200     REMOVED\n",
       "2         103   Bluetooth Speaker  Electronics  49.99     75     REMOVED\n",
       "3         105           Desk Lamp    Furniture  35.00     90     REMOVED\n",
       "4         106            Notebook   Stationary   2.99    300     REMOVED\n",
       "5         101      Wireless Mouse  Electronics  23.99    120       ADDED\n",
       "6         102        Water Bottle      Kitchen  10.50    180       ADDED\n",
       "7         103  Bluetooth Speaker   Electronics  49.99     75       ADDED\n",
       "8         105           Desk Lamp    Furniture  37.00     90       ADDED\n",
       "9         107        Smart Watch     Wearables  99.00     50       ADDED"
      ],
      "text/html": [
       "<div>\n",
       "<style scoped>\n",
       "    .dataframe tbody tr th:only-of-type {\n",
       "        vertical-align: middle;\n",
       "    }\n",
       "\n",
       "    .dataframe tbody tr th {\n",
       "        vertical-align: top;\n",
       "    }\n",
       "\n",
       "    .dataframe thead th {\n",
       "        text-align: right;\n",
       "    }\n",
       "</style>\n",
       "<table border=\"1\" class=\"dataframe\">\n",
       "  <thead>\n",
       "    <tr style=\"text-align: right;\">\n",
       "      <th></th>\n",
       "      <th>product_id</th>\n",
       "      <th>name</th>\n",
       "      <th>category</th>\n",
       "      <th>price</th>\n",
       "      <th>stock</th>\n",
       "      <th>change_type</th>\n",
       "    </tr>\n",
       "  </thead>\n",
       "  <tbody>\n",
       "    <tr>\n",
       "      <th>0</th>\n",
       "      <td>101</td>\n",
       "      <td>Wireless Mouse</td>\n",
       "      <td>Electronics</td>\n",
       "      <td>25.99</td>\n",
       "      <td>120</td>\n",
       "      <td>REMOVED</td>\n",
       "    </tr>\n",
       "    <tr>\n",
       "      <th>1</th>\n",
       "      <td>102</td>\n",
       "      <td>Water Bottle</td>\n",
       "      <td>Kitchen</td>\n",
       "      <td>10.50</td>\n",
       "      <td>200</td>\n",
       "      <td>REMOVED</td>\n",
       "    </tr>\n",
       "    <tr>\n",
       "      <th>2</th>\n",
       "      <td>103</td>\n",
       "      <td>Bluetooth Speaker</td>\n",
       "      <td>Electronics</td>\n",
       "      <td>49.99</td>\n",
       "      <td>75</td>\n",
       "      <td>REMOVED</td>\n",
       "    </tr>\n",
       "    <tr>\n",
       "      <th>3</th>\n",
       "      <td>105</td>\n",
       "      <td>Desk Lamp</td>\n",
       "      <td>Furniture</td>\n",
       "      <td>35.00</td>\n",
       "      <td>90</td>\n",
       "      <td>REMOVED</td>\n",
       "    </tr>\n",
       "    <tr>\n",
       "      <th>4</th>\n",
       "      <td>106</td>\n",
       "      <td>Notebook</td>\n",
       "      <td>Stationary</td>\n",
       "      <td>2.99</td>\n",
       "      <td>300</td>\n",
       "      <td>REMOVED</td>\n",
       "    </tr>\n",
       "    <tr>\n",
       "      <th>5</th>\n",
       "      <td>101</td>\n",
       "      <td>Wireless Mouse</td>\n",
       "      <td>Electronics</td>\n",
       "      <td>23.99</td>\n",
       "      <td>120</td>\n",
       "      <td>ADDED</td>\n",
       "    </tr>\n",
       "    <tr>\n",
       "      <th>6</th>\n",
       "      <td>102</td>\n",
       "      <td>Water Bottle</td>\n",
       "      <td>Kitchen</td>\n",
       "      <td>10.50</td>\n",
       "      <td>180</td>\n",
       "      <td>ADDED</td>\n",
       "    </tr>\n",
       "    <tr>\n",
       "      <th>7</th>\n",
       "      <td>103</td>\n",
       "      <td>Bluetooth Speaker</td>\n",
       "      <td>Electronics</td>\n",
       "      <td>49.99</td>\n",
       "      <td>75</td>\n",
       "      <td>ADDED</td>\n",
       "    </tr>\n",
       "    <tr>\n",
       "      <th>8</th>\n",
       "      <td>105</td>\n",
       "      <td>Desk Lamp</td>\n",
       "      <td>Furniture</td>\n",
       "      <td>37.00</td>\n",
       "      <td>90</td>\n",
       "      <td>ADDED</td>\n",
       "    </tr>\n",
       "    <tr>\n",
       "      <th>9</th>\n",
       "      <td>107</td>\n",
       "      <td>Smart Watch</td>\n",
       "      <td>Wearables</td>\n",
       "      <td>99.00</td>\n",
       "      <td>50</td>\n",
       "      <td>ADDED</td>\n",
       "    </tr>\n",
       "  </tbody>\n",
       "</table>\n",
       "</div>"
      ]
     },
     "execution_count": 20,
     "metadata": {},
     "output_type": "execute_result"
    }
   ],
   "execution_count": 20
  },
  {
   "cell_type": "code",
   "id": "888dcee44c4ab4a8",
   "metadata": {
    "ExecuteTime": {
     "end_time": "2025-06-24T19:41:07.203671Z",
     "start_time": "2025-06-24T19:41:07.182652Z"
    }
   },
   "source": [
    "# Step 1: Clean column names\n",
    "df_old.columns = df_old.columns.str.strip().str.lower()\n",
    "df_new.columns = df_new.columns.str.strip().str.lower()\n",
    "\n",
    "# Step 2: Merge and compare\n",
    "merged = df_old.merge(df_new, on=\"product_id\", suffixes=('_old', '_new'))\n",
    "columns_to_compare = ['name', 'category', 'price', 'stock']\n",
    "\n",
    "changes = []\n",
    "for _, row in merged.iterrows():\n",
    "    for col in columns_to_compare:\n",
    "        old_val = row[f\"{col}_old\"]\n",
    "        new_val = row[f\"{col}_new\"]\n",
    "        if old_val != new_val:\n",
    "            changes.append({\n",
    "                'product_id': row['product_id'],\n",
    "                'column_name': col,\n",
    "                'old_value': old_val,\n",
    "                'new_value': new_val\n",
    "            })\n",
    "\n",
    "column_changes_df = pd.DataFrame(changes)\n",
    "display(column_changes_df)\n"
   ],
   "outputs": [
    {
     "data": {
      "text/plain": [
       "   product_id column_name          old_value           new_value\n",
       "0         101       price              25.99               23.99\n",
       "1         102       stock                200                 180\n",
       "2         103        name  Bluetooth Speaker  Bluetooth Speaker \n",
       "3         105       price               35.0                37.0"
      ],
      "text/html": [
       "<div>\n",
       "<style scoped>\n",
       "    .dataframe tbody tr th:only-of-type {\n",
       "        vertical-align: middle;\n",
       "    }\n",
       "\n",
       "    .dataframe tbody tr th {\n",
       "        vertical-align: top;\n",
       "    }\n",
       "\n",
       "    .dataframe thead th {\n",
       "        text-align: right;\n",
       "    }\n",
       "</style>\n",
       "<table border=\"1\" class=\"dataframe\">\n",
       "  <thead>\n",
       "    <tr style=\"text-align: right;\">\n",
       "      <th></th>\n",
       "      <th>product_id</th>\n",
       "      <th>column_name</th>\n",
       "      <th>old_value</th>\n",
       "      <th>new_value</th>\n",
       "    </tr>\n",
       "  </thead>\n",
       "  <tbody>\n",
       "    <tr>\n",
       "      <th>0</th>\n",
       "      <td>101</td>\n",
       "      <td>price</td>\n",
       "      <td>25.99</td>\n",
       "      <td>23.99</td>\n",
       "    </tr>\n",
       "    <tr>\n",
       "      <th>1</th>\n",
       "      <td>102</td>\n",
       "      <td>stock</td>\n",
       "      <td>200</td>\n",
       "      <td>180</td>\n",
       "    </tr>\n",
       "    <tr>\n",
       "      <th>2</th>\n",
       "      <td>103</td>\n",
       "      <td>name</td>\n",
       "      <td>Bluetooth Speaker</td>\n",
       "      <td>Bluetooth Speaker</td>\n",
       "    </tr>\n",
       "    <tr>\n",
       "      <th>3</th>\n",
       "      <td>105</td>\n",
       "      <td>price</td>\n",
       "      <td>35.0</td>\n",
       "      <td>37.0</td>\n",
       "    </tr>\n",
       "  </tbody>\n",
       "</table>\n",
       "</div>"
      ]
     },
     "metadata": {},
     "output_type": "display_data"
    }
   ],
   "execution_count": 22
  },
  {
   "metadata": {},
   "cell_type": "code",
   "outputs": [],
   "execution_count": null,
   "source": "",
   "id": "92682c0bd4453385"
  }
 ],
 "metadata": {
  "kernelspec": {
   "display_name": "base",
   "language": "python",
   "name": "python3"
  },
  "language_info": {
   "codemirror_mode": {
    "name": "ipython",
    "version": 2
   },
   "file_extension": ".py",
   "mimetype": "text/x-python",
   "name": "python",
   "nbconvert_exporter": "python",
   "pygments_lexer": "ipython2",
   "version": "3.12.7"
  }
 },
 "nbformat": 4,
 "nbformat_minor": 5
}
